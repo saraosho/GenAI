{
  "nbformat": 4,
  "nbformat_minor": 0,
  "metadata": {
    "colab": {
      "provenance": [],
      "authorship_tag": "ABX9TyM+DVhvJsLXk3bddNRCt9Vr",
      "include_colab_link": true
    },
    "kernelspec": {
      "name": "python3",
      "display_name": "Python 3"
    },
    "language_info": {
      "name": "python"
    }
  },
  "cells": [
    {
      "cell_type": "markdown",
      "metadata": {
        "id": "view-in-github",
        "colab_type": "text"
      },
      "source": [
        "<a href=\"https://colab.research.google.com/github/saraosho/GenAI/blob/main/first_mlp_single_data.ipynb\" target=\"_parent\"><img src=\"https://colab.research.google.com/assets/colab-badge.svg\" alt=\"Open In Colab\"/></a>"
      ]
    },
    {
      "cell_type": "code",
      "source": [
        "# Create your first MLP in Keras\n",
        "from keras.models import Sequential\n",
        "from keras.layers import Dense\n",
        "import warnings\n",
        "warnings.simplefilter(action='ignore', category=FutureWarning)\n",
        "from sklearn.preprocessing import StandardScaler\n",
        "from tensorflow.keras.models import load_model\n"
      ],
      "metadata": {
        "id": "hE1S6LHuMN8Z"
      },
      "execution_count": 33,
      "outputs": []
    },
    {
      "cell_type": "code",
      "source": [
        "model = Sequential()\n",
        "model.add(Dense(12, input_dim=8, activation='relu'))\n",
        "model.add(Dense(8, activation='relu'))\n",
        "model.add(Dense(1, activation='sigmoid'))\n",
        "model.summary()\n",
        "from google.colab import drive\n",
        "drive.mount('/content/drive')\n",
        "\n",
        "# Save the model to Google Drive\n",
        "model.save(\"/content/drive/My Drive/diabetes_prediction_model.keras\")"
      ],
      "metadata": {
        "colab": {
          "base_uri": "https://localhost:8080/"
        },
        "id": "5xoZ-yF5L9md",
        "outputId": "2cb5d4aa-ebe9-4701-8a75-01f68e250e79"
      },
      "execution_count": 34,
      "outputs": [
        {
          "output_type": "stream",
          "name": "stdout",
          "text": [
            "Model: \"sequential_7\"\n",
            "_________________________________________________________________\n",
            " Layer (type)                Output Shape              Param #   \n",
            "=================================================================\n",
            " dense_21 (Dense)            (None, 12)                108       \n",
            "                                                                 \n",
            " dense_22 (Dense)            (None, 8)                 104       \n",
            "                                                                 \n",
            " dense_23 (Dense)            (None, 1)                 9         \n",
            "                                                                 \n",
            "=================================================================\n",
            "Total params: 221 (884.00 Byte)\n",
            "Trainable params: 221 (884.00 Byte)\n",
            "Non-trainable params: 0 (0.00 Byte)\n",
            "_________________________________________________________________\n",
            "Drive already mounted at /content/drive; to attempt to forcibly remount, call drive.mount(\"/content/drive\", force_remount=True).\n"
          ]
        }
      ]
    },
    {
      "cell_type": "code",
      "execution_count": 35,
      "metadata": {
        "colab": {
          "base_uri": "https://localhost:8080/"
        },
        "id": "4HFhvHp9LCVa",
        "outputId": "9582d85f-767d-4a74-a15c-f2c6221626c4"
      },
      "outputs": [
        {
          "output_type": "stream",
          "name": "stdout",
          "text": [
            "(8,)\n",
            "(None, 8)\n",
            "1/1 [==============================] - 0s 63ms/step\n",
            "The model predicts that this individual has diabetes.\n"
          ]
        }
      ],
      "source": [
        "import numpy as np\n",
        "import pandas as pd\n",
        "from sklearn.preprocessing import StandardScaler\n",
        "from tensorflow.keras.models import load_model\n",
        "\n",
        "# Load the trained model\n",
        "model = load_model(\"/content/drive/My Drive/diabetes_prediction_model.keras\")  # Replace 'diabetes_prediction_model.h5' with your model file\n",
        "\n",
        "# Load the single data instance from CSV\n",
        "data = pd.read_csv(\"https://raw.githubusercontent.com/saraosho/GenAI/main/pima-indians-diabetes-Single.csv\", header=None)\n",
        "single_data = data.values.flatten()  # Assuming the data is already preprocessed and doesn't contain the target variable\n",
        "\n",
        "# Preprocess the single data instance\n",
        "scaler = StandardScaler()\n",
        "single_data_scaled = scaler.fit_transform(np.array(single_data).reshape(1, -1))\n",
        "print(single_data.shape)\n",
        "print(model.input_shape)\n",
        "# Predict using the model\n",
        "prediction = model.predict(single_data_scaled)\n",
        "\n",
        "# Convert prediction to human-readable format\n",
        "if prediction[0][0] >= 0.5:\n",
        "    print(\"The model predicts that this individual has diabetes.\")\n",
        "else:\n",
        "    print(\"The model predicts that this individual does not have diabetes.\")"
      ]
    }
  ]
}